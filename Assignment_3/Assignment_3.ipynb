{
 "cells": [
  {
   "cell_type": "code",
   "execution_count": 1,
   "id": "e861ce30",
   "metadata": {},
   "outputs": [],
   "source": [
    "#Assignment_3"
   ]
  },
  {
   "cell_type": "code",
   "execution_count": 2,
   "id": "d1f47f14",
   "metadata": {},
   "outputs": [],
   "source": [
    "#Q1"
   ]
  },
  {
   "cell_type": "code",
   "execution_count": 6,
   "id": "1836ead7",
   "metadata": {},
   "outputs": [
    {
     "data": {
      "text/plain": [
       "[1, 3, 5, 7, 9, 11, 13, 15, 17, 19, 21, 23]"
      ]
     },
     "execution_count": 6,
     "metadata": {},
     "output_type": "execute_result"
    }
   ],
   "source": [
    "#def keyword is used to create a function \n",
    "l1 = []\n",
    "def odd():\n",
    "    for i in range(25):\n",
    "        if i%2 != 0:\n",
    "            l1.append(i)\n",
    "    return l1\n",
    "\n",
    "odd() "
   ]
  },
  {
   "cell_type": "code",
   "execution_count": 7,
   "id": "32139222",
   "metadata": {},
   "outputs": [],
   "source": [
    "#Q.2 "
   ]
  },
  {
   "cell_type": "code",
   "execution_count": 8,
   "id": "15f200c7",
   "metadata": {},
   "outputs": [],
   "source": [
    "# *args and **kwargs used to take arguments dynamically\n",
    "# *args for normal arguments \n",
    "# **kwargs for key - value pair"
   ]
  },
  {
   "cell_type": "code",
   "execution_count": 13,
   "id": "e08dca72",
   "metadata": {},
   "outputs": [
    {
     "data": {
      "text/plain": [
       "(2, 3, 7)"
      ]
     },
     "execution_count": 13,
     "metadata": {},
     "output_type": "execute_result"
    }
   ],
   "source": [
    "# *args\n",
    "def add(*args):\n",
    "    return args\n",
    "add(2,3,7)"
   ]
  },
  {
   "cell_type": "code",
   "execution_count": 14,
   "id": "4e355bc5",
   "metadata": {},
   "outputs": [
    {
     "data": {
      "text/plain": [
       "{'a': 3, 'b': 7, 'x': 9}"
      ]
     },
     "execution_count": 14,
     "metadata": {},
     "output_type": "execute_result"
    }
   ],
   "source": [
    "# **kwargs\n",
    "def dictionary(**kwargs):\n",
    "    return kwargs\n",
    "\n",
    "dictionary(a=3,b=7,x=9)"
   ]
  },
  {
   "cell_type": "code",
   "execution_count": 15,
   "id": "e0ec66c4",
   "metadata": {},
   "outputs": [],
   "source": [
    "#Q.3"
   ]
  },
  {
   "cell_type": "code",
   "execution_count": 21,
   "id": "bd3e49ad",
   "metadata": {},
   "outputs": [],
   "source": [
    "#Iterator in python allows us ton access each element in that iterator to perform various task \n",
    "#iter() method is used to initialize the iterator "
   ]
  },
  {
   "cell_type": "code",
   "execution_count": 42,
   "id": "d139dd1f",
   "metadata": {},
   "outputs": [
    {
     "name": "stdout",
     "output_type": "stream",
     "text": [
      "2\n",
      "4\n",
      "6\n",
      "8\n",
      "10\n"
     ]
    }
   ],
   "source": [
    "l = [2,4,6,8,10,12,14,16,18,20]\n",
    "def generator(l):\n",
    "    for i in l:\n",
    "        yield i\n",
    "        \n",
    "l1 = generator(l)\n",
    "\n",
    "for i in range(5):\n",
    "    print(next(l1))\n",
    "        "
   ]
  },
  {
   "cell_type": "code",
   "execution_count": 43,
   "id": "309db243",
   "metadata": {},
   "outputs": [],
   "source": [
    "#Q.4"
   ]
  },
  {
   "cell_type": "code",
   "execution_count": 44,
   "id": "3dad5016",
   "metadata": {},
   "outputs": [],
   "source": [
    "#Generator function used to produce a sequence of output and yield keyword returns that sequential output one by one to calling function"
   ]
  },
  {
   "cell_type": "code",
   "execution_count": 57,
   "id": "ed372bdd",
   "metadata": {},
   "outputs": [
    {
     "name": "stdout",
     "output_type": "stream",
     "text": [
      "0\n",
      "1\n",
      "1\n",
      "2\n",
      "3\n",
      "5\n",
      "8\n",
      "13\n",
      "21\n",
      "34\n"
     ]
    }
   ],
   "source": [
    "def fib():\n",
    "        a,b = 0,1\n",
    "        while True:\n",
    "            yield a\n",
    "            a,b = b,a+b \n",
    "\n",
    "z = fib()\n",
    "\n",
    "for i in range (10):\n",
    "    print(next(z))"
   ]
  },
  {
   "cell_type": "code",
   "execution_count": 58,
   "id": "2716fa8a",
   "metadata": {},
   "outputs": [],
   "source": [
    "#Q.5 "
   ]
  },
  {
   "cell_type": "code",
   "execution_count": 15,
   "id": "799de9d5",
   "metadata": {},
   "outputs": [
    {
     "name": "stdout",
     "output_type": "stream",
     "text": [
      "2\n",
      "3\n",
      "5\n",
      "7\n",
      "11\n",
      "13\n",
      "17\n",
      "19\n",
      "23\n",
      "29\n",
      "31\n",
      "37\n",
      "41\n",
      "43\n",
      "47\n",
      "53\n",
      "59\n",
      "61\n",
      "67\n",
      "71\n"
     ]
    }
   ],
   "source": [
    "def prime():\n",
    "    for i in range(1,1000):\n",
    "        count = 0\n",
    "        for j in range(1,i+1):\n",
    "            if i%j == 0:\n",
    "                count += 1\n",
    "        if count == 2:\n",
    "            yield i\n",
    "\n",
    "p = prime()\n",
    "\n",
    "for k in range(20):\n",
    "    print(next(p))"
   ]
  },
  {
   "cell_type": "code",
   "execution_count": null,
   "id": "dd8ec90b",
   "metadata": {},
   "outputs": [],
   "source": [
    "#Q.6"
   ]
  },
  {
   "cell_type": "code",
   "execution_count": 21,
   "id": "416da826",
   "metadata": {},
   "outputs": [
    {
     "name": "stdout",
     "output_type": "stream",
     "text": [
      "0\n",
      "1\n",
      "1\n",
      "2\n",
      "3\n",
      "5\n",
      "8\n",
      "13\n",
      "21\n",
      "34\n"
     ]
    }
   ],
   "source": [
    "x,y = 0,1\n",
    "i=1\n",
    "while i<=10:\n",
    "    print(x)\n",
    "    x,y = y,x+y\n",
    "    i += 1\n",
    "    "
   ]
  },
  {
   "cell_type": "code",
   "execution_count": 19,
   "id": "5391e68b",
   "metadata": {},
   "outputs": [],
   "source": [
    "#Q.7"
   ]
  },
  {
   "cell_type": "code",
   "execution_count": 40,
   "id": "c59c6a33",
   "metadata": {},
   "outputs": [
    {
     "name": "stdout",
     "output_type": "stream",
     "text": [
      "['p', 'w', 's', 'k', 'i', 'l', 'l', 's']\n"
     ]
    }
   ],
   "source": [
    "s = \"pwskills\"\n",
    "l=[]\n",
    "for i in s:\n",
    "    l.append(i)\n",
    "print(l)"
   ]
  },
  {
   "cell_type": "code",
   "execution_count": 32,
   "id": "9a19c81b",
   "metadata": {},
   "outputs": [],
   "source": [
    "#Q.8"
   ]
  },
  {
   "cell_type": "code",
   "execution_count": null,
   "id": "898dc8e0",
   "metadata": {},
   "outputs": [],
   "source": [
    "a = int(input(\"Enter a Number = \"))\n",
    "temp = a\n",
    "rev = 0\n",
    "while a > 0:\n",
    "    r = a%10 \n",
    "    rev = (rev*10)+r\n",
    "    a = a//10\n",
    "    \n",
    "if temp == rev:\n",
    "    print(\"No. is palindrome\")\n",
    "else:\n",
    "    print(\"No. is not palindrome\")"
   ]
  },
  {
   "cell_type": "code",
   "execution_count": null,
   "id": "847759c5",
   "metadata": {},
   "outputs": [],
   "source": [
    "#Q.9"
   ]
  },
  {
   "cell_type": "code",
   "execution_count": 6,
   "id": "2bf85d22",
   "metadata": {},
   "outputs": [
    {
     "name": "stdout",
     "output_type": "stream",
     "text": [
      "[1, 3, 5, 7, 9, 11, 13, 15, 17, 19, 21, 23, 25, 27, 29, 31, 33, 35, 37, 39, 41, 43, 45, 47, 49, 51, 53, 55, 57, 59, 61, 63, 65, 67, 69, 71, 73, 75, 77, 79, 81, 83, 85, 87, 89, 91, 93, 95, 97, 99]\n"
     ]
    }
   ],
   "source": [
    "l = []\n",
    "for i in range(101):\n",
    "    l.append(i)\n",
    "l1 = []\n",
    "for i in l:\n",
    "    if i%2 != 0:\n",
    "        l1.append(i)\n",
    "print(l1)\n",
    "    "
   ]
  },
  {
   "cell_type": "code",
   "execution_count": null,
   "id": "bf7f8392",
   "metadata": {},
   "outputs": [],
   "source": []
  }
 ],
 "metadata": {
  "kernelspec": {
   "display_name": "Python 3 (ipykernel)",
   "language": "python",
   "name": "python3"
  },
  "language_info": {
   "codemirror_mode": {
    "name": "ipython",
    "version": 3
   },
   "file_extension": ".py",
   "mimetype": "text/x-python",
   "name": "python",
   "nbconvert_exporter": "python",
   "pygments_lexer": "ipython3",
   "version": "3.9.12"
  }
 },
 "nbformat": 4,
 "nbformat_minor": 5
}
