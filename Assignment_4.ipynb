{
 "cells": [
  {
   "cell_type": "code",
   "execution_count": 17,
   "id": "668fdcea",
   "metadata": {},
   "outputs": [],
   "source": [
    "#Assignment_4 "
   ]
  },
  {
   "cell_type": "code",
   "execution_count": null,
   "id": "7861b863",
   "metadata": {},
   "outputs": [],
   "source": [
    "#Q.1"
   ]
  },
  {
   "cell_type": "code",
   "execution_count": 16,
   "id": "6fe74e87",
   "metadata": {},
   "outputs": [
    {
     "name": "stdout",
     "output_type": "stream",
     "text": [
      "[('Virat Kohli', 24936), ('Jack Kallis', 25534), ('Ricky Ponting', 27483), ('Sachin Tendulkar', 34357)]\n"
     ]
    }
   ],
   "source": [
    "l = [('Sachin Tendulkar',34357),('Ricky Ponting',27483),('Jack Kallis',25534),('Virat Kohli',24936)]\n",
    "sort = sorted(l, key=lambda x: x[1])\n",
    "print(sort) "
   ]
  },
  {
   "cell_type": "code",
   "execution_count": 18,
   "id": "af1d6801",
   "metadata": {},
   "outputs": [],
   "source": [
    "#Q.2"
   ]
  },
  {
   "cell_type": "code",
   "execution_count": 20,
   "id": "62391265",
   "metadata": {},
   "outputs": [
    {
     "data": {
      "text/plain": [
       "[1, 4, 9, 16, 25, 36, 49, 64, 81, 100]"
      ]
     },
     "execution_count": 20,
     "metadata": {},
     "output_type": "execute_result"
    }
   ],
   "source": [
    "l = list(range(1,11))\n",
    "list(map(lambda x:x**2,l))"
   ]
  },
  {
   "cell_type": "code",
   "execution_count": 21,
   "id": "e748c2e4",
   "metadata": {},
   "outputs": [],
   "source": [
    "#Q.3"
   ]
  },
  {
   "cell_type": "code",
   "execution_count": 31,
   "id": "7648f7b1",
   "metadata": {},
   "outputs": [
    {
     "data": {
      "text/plain": [
       "('1', '2', '3', '4', '5', '6', '7', '8', '9', '10')"
      ]
     },
     "execution_count": 31,
     "metadata": {},
     "output_type": "execute_result"
    }
   ],
   "source": [
    "l = list(range(1,11))\n",
    "tuple(map(lambda x:str(x),l))"
   ]
  },
  {
   "cell_type": "code",
   "execution_count": 32,
   "id": "454ef764",
   "metadata": {},
   "outputs": [],
   "source": [
    "#Q.4"
   ]
  },
  {
   "cell_type": "code",
   "execution_count": 40,
   "id": "1e112bc3",
   "metadata": {},
   "outputs": [
    {
     "data": {
      "text/plain": [
       "15511210043330985984000000"
      ]
     },
     "execution_count": 40,
     "metadata": {},
     "output_type": "execute_result"
    }
   ],
   "source": [
    "from functools import reduce\n",
    "l = list(range(1,26))\n",
    "reduce(lambda x,y:x*y,l)\n"
   ]
  },
  {
   "cell_type": "code",
   "execution_count": 41,
   "id": "61a3be8e",
   "metadata": {},
   "outputs": [],
   "source": [
    "#Q.5"
   ]
  },
  {
   "cell_type": "code",
   "execution_count": 53,
   "id": "691b9c43",
   "metadata": {},
   "outputs": [
    {
     "data": {
      "text/plain": [
       "[6, 60, 90, 120]"
      ]
     },
     "execution_count": 53,
     "metadata": {},
     "output_type": "execute_result"
    }
   ],
   "source": [
    "l = [2,3,6,9,27,60,90,120,55,46]\n",
    "list(filter(lambda x:x if x%2==0 and x%3==0 else 0 ,l))"
   ]
  },
  {
   "cell_type": "code",
   "execution_count": 54,
   "id": "6edd3332",
   "metadata": {},
   "outputs": [],
   "source": [
    "#Q.6"
   ]
  },
  {
   "cell_type": "code",
   "execution_count": 62,
   "id": "bf9f2300",
   "metadata": {},
   "outputs": [
    {
     "data": {
      "text/plain": [
       "['php', 'aba', 'radar', 'level']"
      ]
     },
     "execution_count": 62,
     "metadata": {},
     "output_type": "execute_result"
    }
   ],
   "source": [
    "l = ['python','php','aba','radar','level']\n",
    "def palindrome(x):\n",
    "    return x==x[::-1]\n",
    "    \n",
    "list(filter(lambda x:palindrome(x), l))"
   ]
  }
 ],
 "metadata": {
  "kernelspec": {
   "display_name": "Python 3 (ipykernel)",
   "language": "python",
   "name": "python3"
  },
  "language_info": {
   "codemirror_mode": {
    "name": "ipython",
    "version": 3
   },
   "file_extension": ".py",
   "mimetype": "text/x-python",
   "name": "python",
   "nbconvert_exporter": "python",
   "pygments_lexer": "ipython3",
   "version": "3.9.12"
  }
 },
 "nbformat": 4,
 "nbformat_minor": 5
}
